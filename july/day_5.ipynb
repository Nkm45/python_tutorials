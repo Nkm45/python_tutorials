{
 "cells": [
  {
   "cell_type": "markdown",
   "metadata": {},
   "source": [
    "# Day 5\n",
    "\n",
    "## Datatypes\n",
    "\n",
    "As the name implies, it means the type of data/object. The most basic types of python objects are numbers (int/float/complex), strings, lists, dicts, sets, tuples, etc...\n",
    "\n",
    "Datatypes mainly help python interpreter to understand the type of object in use. It prepares the interpreter to be ready to perform operation on the data.\n",
    "\n",
    "Before understanding Datatypes, you need to understand type(s) of data(objects) in python.\n",
    "\n",
    "### Types of Data\n",
    "\n",
    "In Python, objects come in all shapes and sizes. \n",
    "\n",
    "There are 2 major classification (according to me): Single and Containers.\n",
    "\n",
    "Single objects (data) is a single entity assigned to a variable whereas Containers are the ones which have multiple elements in them.\n",
    "\n",
    "Example of Single objects:\n",
    "- Strings\n",
    "- Numbers (int/float/complex)\n",
    "- None\n",
    "- Callable objects (Functions/Classes)\n",
    "- Booleans\n",
    "- Datetime, etc...\n",
    "\n",
    "Example of Container objects:\n",
    "- Strings\n",
    "- Sequences (Lists, Tuples, Generator (not really))\n",
    "- Dictionary\n",
    "- Set\n",
    "\n",
    "And there's the obvious object (data) classification: Mutable and Immutable data (objects).\n",
    "\n",
    "Mutable data are the ones whose values can be changed/updated as required while Immutable are the ones whose values/elements we can't update.\n",
    "\n",
    "Mutable objects:\n",
    "- Lists\n",
    "- Dictionary\n",
    "- Set\n",
    "\n",
    "Immutable objects:\n",
    "- String\n",
    "- Numbers\n",
    "- Tuples"
   ]
  },
  {
   "cell_type": "code",
   "execution_count": null,
   "metadata": {},
   "outputs": [],
   "source": []
  }
 ],
 "metadata": {
  "kernelspec": {
   "display_name": "Python 3.8.2 64-bit ('big_bang': venv)",
   "language": "python",
   "name": "python38264bitbigbangvenv77a135e693214ce39e73e8efca9d73f8"
  },
  "language_info": {
   "codemirror_mode": {
    "name": "ipython",
    "version": 3
   },
   "file_extension": ".py",
   "mimetype": "text/x-python",
   "name": "python",
   "nbconvert_exporter": "python",
   "pygments_lexer": "ipython3",
   "version": "3.8.2"
  }
 },
 "nbformat": 4,
 "nbformat_minor": 2
}
