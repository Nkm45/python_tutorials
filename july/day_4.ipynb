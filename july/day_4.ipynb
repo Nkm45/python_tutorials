{
 "cells": [
  {
   "cell_type": "markdown",
   "metadata": {},
   "source": [
    "# Day 4\n",
    "\n",
    "## Operations on Variables\n",
    "\n",
    "Operations on variables in python looks exactly like mathematical expressions.\n"
   ]
  },
  {
   "cell_type": "code",
   "execution_count": 1,
   "metadata": {},
   "outputs": [
    {
     "data": {
      "text/plain": [
       "25"
      ]
     },
     "execution_count": 1,
     "metadata": {},
     "output_type": "execute_result"
    }
   ],
   "source": [
    "# Arithmetic Operations on variables returns Numbers (int/float), List (Append) and String (Concatenation)\n",
    "\n",
    "# Add: +\n",
    "# Subtraction: -\n",
    "# Multiplication: *\n",
    "# Division: /\n",
    "# Floor Division (Round-off): //\n",
    "# Modulus: %\n",
    "# Exponent: **\n",
    "\n",
    "10 + 15 "
   ]
  },
  {
   "cell_type": "code",
   "execution_count": 7,
   "metadata": {},
   "outputs": [
    {
     "data": {
      "text/plain": [
       "25"
      ]
     },
     "execution_count": 7,
     "metadata": {},
     "output_type": "execute_result"
    }
   ],
   "source": [
    "# Assignment Operations on variables returns Numbers (int/float)\n",
    "\n",
    "# Assignment: =\n",
    "# Add: +=\n",
    "# Subtraction: -=\n",
    "# Multiplication: *=\n",
    "# Division: /=\n",
    "# Floor Division (Round-off): //=\n",
    "# Modulus: %=\n",
    "# Exponent: **=\n",
    "\n",
    "var_1 = 10\n",
    "var_2 = 15\n",
    "\n",
    "var_1 += var_2\n",
    "\n",
    "var_1"
   ]
  },
  {
   "cell_type": "code",
   "execution_count": 8,
   "metadata": {},
   "outputs": [
    {
     "data": {
      "text/plain": [
       "True"
      ]
     },
     "execution_count": 8,
     "metadata": {},
     "output_type": "execute_result"
    }
   ],
   "source": [
    "# Comparison Operations on variables returns Boolean (True/False)\n",
    "\n",
    "# Equal to: == (comparison)\n",
    "# Not Equal to: != OR <> (deprecated)\n",
    "# Less than: <\n",
    "# Greater than: >\n",
    "# Less than equal to: <=\n",
    "# Greater than equal to: >=\n",
    "\n",
    "10 < 15"
   ]
  },
  {
   "cell_type": "code",
   "execution_count": 11,
   "metadata": {},
   "outputs": [
    {
     "data": {
      "text/plain": [
       "1"
      ]
     },
     "execution_count": 11,
     "metadata": {},
     "output_type": "execute_result"
    }
   ],
   "source": [
    "# Logical Operations on variables returns Boolean (True/False) represented usually in terms of 1 or 0.\n",
    "\n",
    "# AND: and\n",
    "# OR: or\n",
    "# NOT: not\n",
    "\n",
    "1 and 1"
   ]
  },
  {
   "cell_type": "code",
   "execution_count": 13,
   "metadata": {},
   "outputs": [
    {
     "data": {
      "text/plain": [
       "True"
      ]
     },
     "execution_count": 13,
     "metadata": {},
     "output_type": "execute_result"
    }
   ],
   "source": [
    "# Is/In Operations on variables returns Boolean (True/False)\n",
    "# Is is usually used to check the identity.\n",
    "# In is usually used to check availability in a container.\n",
    "\n",
    "# IS: is\n",
    "# IN: in\n",
    "\n",
    "a = 10\n",
    "b = 10\n",
    "\n",
    "a is b"
   ]
  },
  {
   "cell_type": "code",
   "execution_count": null,
   "metadata": {},
   "outputs": [],
   "source": []
  }
 ],
 "metadata": {
  "kernelspec": {
   "display_name": "Python 3",
   "language": "python",
   "name": "python3"
  },
  "language_info": {
   "codemirror_mode": {
    "name": "ipython",
    "version": 3
   },
   "file_extension": ".py",
   "mimetype": "text/x-python",
   "name": "python",
   "nbconvert_exporter": "python",
   "pygments_lexer": "ipython3",
   "version": "3.8.2"
  }
 },
 "nbformat": 4,
 "nbformat_minor": 4
}
