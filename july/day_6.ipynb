{
 "cells": [
  {
   "cell_type": "markdown",
   "metadata": {},
   "source": [
    "# Day ...\n",
    "\n",
    "**Note:** To understand loops properly, it is presumed that you understand **Containers**.\n",
    "\n",
    "## Loops in Python\n",
    "\n",
    "To loop means to iterate or repeat.\n",
    "\n",
    "Most of the programming languages have the concept of **loops**. They help the developer to reduce the efforts for doing repetitive work. So essentially, loops are a \"**control flow**\" structure which deals with **iterations**.\n",
    "Repetitive execution of the same block of code is called as **iterations**.\n",
    "\n",
    "There are 2 main types of loops (according to me): **Iterative** loops and **Conditional** loops.\n",
    "\n",
    "### Iterative Loops\n",
    "\n",
    "Iterative loops are the structures (syntax) that repeats till it gets exhausted.\n",
    "\n",
    "In python, we have 2 major iterative loops: **For** loop and **While** loop.\n",
    "\n",
    "#### For Loop\n",
    "\n",
    "For loops are the most basic and common type of loops in programming. They essentially mean to loop **for** a fixed interval or period.\n",
    "\n",
    "##### Other type of Containers\n",
    "\n",
    "**range()** and **enumerate()**\n",
    "\n",
    "### Range in Python\n",
    "\n",
    "range() returns a range object. It essentially returns a sequence of integers with starting point, stopping point and the steps. Range works on **Sequences** and **Sets** and supports referencing elements using indexing.\n",
    "\n",
    "```python\n",
    "range(10) # creates a range obj of 10 integers starting from 0 to 9\n",
    "\n",
    "range(1, 11) # creates a range obj of 10 integers starting from 1 to 10\n",
    "\n",
    "range(0, 10, 2) # creates a range obj of 5 integers (even numbers)\n",
    "```\n",
    "\n",
    "#### Things to consider when working with range()\n",
    "\n",
    "- range() returns **range** which is neither list, tuple or any other sequencing container.\n",
    "- All the arguments must be **integers**.\n",
    "- It supports 3 arguments at most and all 3 arguments could be signed or unsigned.\n",
    "\n",
    "### Enumerate (yet to write)\n",
    "\n",
    "### Nested For Loops\n",
    "\n",
    "Nested signifies layers in **CS**. A Directory structure is a primitive example of **Nesting**.\n",
    "\n",
    "## Conditional Loops\n",
    "\n",
    "As name rings the bell, conditional loops are the loops that are executed for a particular **condition**. Conditional loops are way to repeat something while a certain condition is satisfied, or True. If the condition is always satisfied (never becomes False), the loop can become infinite. If the condition starts off false, the code in the loop will never run! In Python conditional loops are defined with the **while** statement also.\n",
    "\n",
    "Conditions always returns **boolean** values. Python uses conditional loop using **if-else** statements. Python being high level language, uses simple natural language words like **if** and **else**. These are used for making decisions.\n",
    "\n",
    "Conditional Loops like this:\n",
    "\n",
    "```python\n",
    "if condition:\n",
    "    statement\n",
    "else:\n",
    "    statement\n",
    "\n",
    "if condition:\n",
    "    statement\n",
    "elif another condition:\n",
    "    statement\n",
    "else:\n",
    "    statement   \n",
    "```\n",
    "\n",
    "### How it works?\n",
    "\n",
    "Statements in **If** works only **if** the technical condition is **True** (little complicated to understand) and **else** works like a backup or default but its not entirely true. If we make mistake with **else** we can use **elif** to correct it.\n",
    "\n",
    "Sounds vague...\n",
    "\n",
    "### Nested If-Else\n",
    "\n",
    "We can do nested **if-else** in python.\n",
    "\n",
    "**Note:** Using **elif** is not nesting!\n",
    "\n",
    "### Word with Switch case\n",
    "\n",
    "Unlike C++, poor python doesn't have concept of switch case and we kinda don't need it either."
   ]
  },
  {
   "cell_type": "code",
   "execution_count": 94,
   "metadata": {},
   "outputs": [
    {
     "name": "stdout",
     "output_type": "stream",
     "text": [
      "1. D\n",
      "2. O\n",
      "3. C\n",
      "4. U\n",
      "5. M\n",
      "6. E\n",
      "7. N\n",
      "8. T\n",
      "9.  \n",
      "10. S\n",
      "11. A\n",
      "12. V\n",
      "13. E\n",
      "14. R\n"
     ]
    },
    {
     "data": {
      "text/plain": [
       "'SHUBHAM PATIL'"
      ]
     },
     "execution_count": 94,
     "metadata": {},
     "output_type": "execute_result"
    }
   ],
   "source": [
    "# Exercise\n",
    "\n",
    "new = \"DOCUMENT SAVER\"\n",
    "\n",
    "xa = enumerate(new, start=4)\n",
    "\n",
    "for idx, value in enumerate(new, start=1):\n",
    "    print(f\"{idx}. {value}\")"
   ]
  },
  {
   "cell_type": "code",
   "execution_count": null,
   "metadata": {},
   "outputs": [],
   "source": [
    "# xa, sagar = \"MALE\", \"MALE\""
   ]
  },
  {
   "cell_type": "code",
   "execution_count": 95,
   "metadata": {},
   "outputs": [
    {
     "data": {
      "text/plain": [
       "(('shivam',), tuple)"
      ]
     },
     "execution_count": 95,
     "metadata": {},
     "output_type": "execute_result"
    }
   ],
   "source": [
    "xa = (\"shivam\",)\n",
    "\n",
    "xa, type(xa)"
   ]
  },
  {
   "cell_type": "code",
   "execution_count": null,
   "metadata": {},
   "outputs": [],
   "source": [
    "# INI # Lua"
   ]
  },
  {
   "cell_type": "code",
   "execution_count": null,
   "metadata": {},
   "outputs": [],
   "source": [
    "# CSS, Lisp and Perl6"
   ]
  },
  {
   "cell_type": "code",
   "execution_count": null,
   "metadata": {},
   "outputs": [],
   "source": []
  },
  {
   "cell_type": "code",
   "execution_count": null,
   "metadata": {},
   "outputs": [],
   "source": []
  }
 ],
 "metadata": {
  "kernelspec": {
   "display_name": "Python 3.8.2 64-bit ('big_bang': venv)",
   "language": "python",
   "name": "python38264bitbigbangvenv77a135e693214ce39e73e8efca9d73f8"
  },
  "language_info": {
   "codemirror_mode": {
    "name": "ipython",
    "version": 3
   },
   "file_extension": ".py",
   "mimetype": "text/x-python",
   "name": "python",
   "nbconvert_exporter": "python",
   "pygments_lexer": "ipython3",
   "version": "3.8.2"
  }
 },
 "nbformat": 4,
 "nbformat_minor": 4
}
