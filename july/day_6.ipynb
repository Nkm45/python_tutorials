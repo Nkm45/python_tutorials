{
 "cells": [
  {
   "cell_type": "markdown",
   "metadata": {},
   "source": [
    "# Day ...\n",
    "\n",
    "**Note:** To understand loops properly, it is presumed that you understand **Containers**.\n",
    "\n",
    "## Loops in Python\n",
    "\n",
    "To loop means to iterate or repeat.\n",
    "\n",
    "Most of the programming languages have the concept of **loops**. They help the developer to reduce the efforts for doing repetitive work. So essentially, loops are a \"**control flow**\" structure which deals with **iterations**.\n",
    "Repetitive execution of the same block of code is called as **iterations**.\n",
    "\n",
    "There are 2 main types of loops (according to me): **Iterative** loops and **Conditional** loops.\n",
    "\n",
    "### Iterative Loops\n",
    "\n",
    "Iterative loops are the structures (syntax) that repeats till it gets exhausted.\n",
    "\n",
    "In python, we have 2 major iterative loops: **For** loop and **While** loop.\n",
    "\n",
    "#### For Loop\n",
    "\n",
    "For loops are the most basic and common type of loops in programming. They essentially mean to loop **for** a fixed interval or period.\n",
    "\n",
    "##### Other type of Containers\n",
    "\n",
    "**range()** and **enumerate()**\n",
    "\n",
    "### Range in Python\n",
    "\n",
    "range() returns a range object. It essentially returns a sequence of integers with starting point, stopping point and the steps. Range works on **Sequences** and **Sets** and supports referencing elements using indexing.\n",
    "\n",
    "```python\n",
    "range(10) # creates a range obj of 10 integers starting from 0 to 9\n",
    "\n",
    "range(1, 11) # creates a range obj of 10 integers starting from 1 to 10\n",
    "\n",
    "range(0, 10, 2) # creates a range obj of 5 integers (even numbers)\n",
    "```\n",
    "\n",
    "#### Things to consider when working with range()\n",
    "\n",
    "- range() returns **range** which is neither list, tuple or any other sequencing container.\n",
    "- All the arguments must be **integers**.\n",
    "- It supports 3 arguments at most and all 3 arguments could be signed or unsigned.\n",
    "\n",
    "### Enumerate (yet to write)\n",
    "\n",
    "### Nested For Loops\n",
    "\n",
    "Nested signifies layers in **CS**. A Directory structure is a primitive example of **Nesting**.\n",
    "\n",
    "## Conditional Loops\n",
    "\n",
    "As name rings the bell, conditional loops are the loops that are executed for a particular **condition**. Conditional loops are way to repeat something while a certain condition is satisfied, or True. If the condition is always satisfied (never becomes False), the loop can become infinite. If the condition starts off false, the code in the loop will never run! In Python conditional loops are defined with the **while** statement also.\n",
    "\n",
    "Conditions always returns **boolean** values. Python uses conditional loop using **if-else** statements. Python being high level language, uses simple natural language words like **if** and **else**. These are used for making decisions.\n",
    "\n",
    "Conditional Loops like this:\n",
    "\n",
    "```python\n",
    "if condition:\n",
    "    statement\n",
    "else:\n",
    "    statement\n",
    "\n",
    "if condition:\n",
    "    statement\n",
    "elif another condition:\n",
    "    statement\n",
    "else:\n",
    "    statement   \n",
    "```\n",
    "\n",
    "### How it works?\n",
    "\n",
    "Statements in **If** works only **if** the technical condition is **True** (little complicated to understand) and **else** works like a backup or default but its not entirely true. If we make mistake with **else** we can use **elif** to correct it.\n",
    "\n",
    "**Note:** If any of the prior **if** gets executed, all the later conditional loops will be skipped. \n",
    "\n",
    "Sounds vague...\n",
    "\n",
    "### Nested If-Else\n",
    "\n",
    "We can do nested **if-else** in python.\n",
    "\n",
    "**Note:** Using **elif** is not nesting!\n",
    "\n",
    "### Word with Switch case\n",
    "\n",
    "Unlike C++, poor python doesn't have concept of switch case and we kinda don't need it either.\n",
    "\n",
    "### While Loop\n",
    "\n",
    "**While** loop is also a fundamental concept in programming languages. It plays in both fields, Iterative or Conditional loop. To understand the concept of While Loop, one must understand the concept of **conditional** loop. While loops executes only **if** the condition is **true** and will continue to iterate till the condition stays **true**. \n",
    "\n",
    "While loops are **infamously** used for creating **Infinite** loops. Infinite loops are the ones which run continuously until the condition stays **true**.\n",
    "\n",
    "```python\n",
    "while condition:\n",
    "    statements\n",
    "```\n",
    "\n",
    "Lets see how it works...\n",
    "\n",
    "First the condition is checked, if it is true the following statements run. Once the statements are executed, the interpreter is going to go back to the start of the **while loop**. Here it'll check again for the condition, if it continues to satisfy again the loop is going to run (statements will be executed again) and this will continue till the condition **fails** to be true.\n",
    "\n",
    "**Note:** Python doesn't support Do-While loops, but we can **emulate** them.\n",
    "\n",
    "\n",
    "### Loop Control Statements\n",
    "\n",
    "There are **two** primary loop control statements, **continue** and **break**. These work exactly how they sound like. \n",
    "\n",
    "Continue will let you to **continue** with the flow if that particular condition is satisfied. Here the rest of the code will not run. Basically it lets you **skip** the execution for a particular iteration.\n",
    "\n",
    "Break will break the loop for you.\n",
    "\n",
    "### Else in Iterative Loops?\n",
    "\n",
    "Python supports **else** conditions in iterative loops too. It just works a little differently."
   ]
  },
  {
   "cell_type": "code",
   "execution_count": 94,
   "metadata": {},
   "outputs": [
    {
     "name": "stdout",
     "output_type": "stream",
     "text": [
      "1. D\n",
      "2. O\n",
      "3. C\n",
      "4. U\n",
      "5. M\n",
      "6. E\n",
      "7. N\n",
      "8. T\n",
      "9.  \n",
      "10. S\n",
      "11. A\n",
      "12. V\n",
      "13. E\n",
      "14. R\n"
     ]
    },
    {
     "data": {
      "text/plain": [
       "'SHUBHAM PATIL'"
      ]
     },
     "execution_count": 94,
     "metadata": {},
     "output_type": "execute_result"
    }
   ],
   "source": [
    "# Exercise\n",
    "\n",
    "new = \"DOCUMENT SAVER\"\n",
    "\n",
    "xa = enumerate(new, start=4)\n",
    "\n",
    "for idx, value in enumerate(new, start=1):\n",
    "    print(f\"{idx}. {value}\")"
   ]
  },
  {
   "cell_type": "code",
   "execution_count": null,
   "metadata": {},
   "outputs": [],
   "source": [
    "# xa, sagar = \"MALE\", \"MALE\""
   ]
  },
  {
   "cell_type": "code",
   "execution_count": 95,
   "metadata": {},
   "outputs": [
    {
     "data": {
      "text/plain": [
       "(('shivam',), tuple)"
      ]
     },
     "execution_count": 95,
     "metadata": {},
     "output_type": "execute_result"
    }
   ],
   "source": [
    "xa = (\"shivam\",)\n",
    "\n",
    "xa, type(xa)"
   ]
  },
  {
   "cell_type": "code",
   "execution_count": null,
   "metadata": {},
   "outputs": [],
   "source": [
    "# INI # Lua"
   ]
  },
  {
   "cell_type": "code",
   "execution_count": null,
   "metadata": {},
   "outputs": [],
   "source": [
    "# CSS, Lisp and Perl6"
   ]
  },
  {
   "cell_type": "code",
   "execution_count": 3,
   "metadata": {},
   "outputs": [
    {
     "data": {
      "text/plain": [
       "[1, 3, 5, 7, 9]"
      ]
     },
     "execution_count": 3,
     "metadata": {},
     "output_type": "execute_result"
    }
   ],
   "source": [
    "list(range(1, 10, 2))"
   ]
  },
  {
   "cell_type": "code",
   "execution_count": 4,
   "metadata": {},
   "outputs": [
    {
     "data": {
      "text/plain": [
       "[(1, 'A'), (2, 's'), (3, 'h'), (4, 'i'), (5, 's'), (6, 'h')]"
      ]
     },
     "execution_count": 4,
     "metadata": {},
     "output_type": "execute_result"
    }
   ],
   "source": [
    "list(enumerate(\"Ashish\", start=1))"
   ]
  },
  {
   "cell_type": "code",
   "execution_count": 5,
   "metadata": {},
   "outputs": [
    {
     "ename": "SyntaxError",
     "evalue": "unexpected character after line continuation character (<ipython-input-5-d62727825916>, line 1)",
     "output_type": "error",
     "traceback": [
      "\u001b[0;36m  File \u001b[0;32m\"<ipython-input-5-d62727825916>\"\u001b[0;36m, line \u001b[0;32m1\u001b[0m\n\u001b[0;31m    C:\\Users\\Documents\\something.pdf # glob built-in module\u001b[0m\n\u001b[0m                                                           ^\u001b[0m\n\u001b[0;31mSyntaxError\u001b[0m\u001b[0;31m:\u001b[0m unexpected character after line continuation character\n"
     ]
    }
   ],
   "source": [
    "C:\\Users\\Documents\\something.pdf # glob built-in module"
   ]
  },
  {
   "cell_type": "code",
   "execution_count": 9,
   "metadata": {},
   "outputs": [],
   "source": [
    "# for idx in range(1, 11):\n",
    "# #      idx = 1    [1, 2, 3, ..., 8, 9, 10]\n",
    "#     for jdx in range(idx):\n",
    "# #         jdx = 10    [1, 2, 3, ..., 8, 9, 10]\n",
    "#         print(idx)"
   ]
  },
  {
   "cell_type": "code",
   "execution_count": 29,
   "metadata": {},
   "outputs": [
    {
     "name": "stdout",
     "output_type": "stream",
     "text": [
      "They are cool\n"
     ]
    }
   ],
   "source": [
    "xa = \"XA\"\n",
    "\n",
    "sg = \"SG\"\n",
    "\n",
    "if type(xa) == type(sg):\n",
    "    if xa == sg:\n",
    "        print(\"Guys are awesome\")\n",
    "    else:\n",
    "        print(\"They are cool\")\n",
    "elif xa == \"XA\":\n",
    "    print(\"TRUE\")\n",
    "else:\n",
    "    if xa != sg:\n",
    "        print(\"They are way cooler!!!\")\n",
    "    elif len(xa) <= len(sg):\n",
    "        print(\"XA is better!\")"
   ]
  },
  {
   "cell_type": "code",
   "execution_count": 25,
   "metadata": {},
   "outputs": [
    {
     "data": {
      "text/plain": [
       "2"
      ]
     },
     "execution_count": 25,
     "metadata": {},
     "output_type": "execute_result"
    }
   ],
   "source": [
    "len(\"Srushti\")\n",
    "\n",
    "len(\"XA\")"
   ]
  },
  {
   "cell_type": "code",
   "execution_count": 36,
   "metadata": {},
   "outputs": [
    {
     "ename": "SyntaxError",
     "evalue": "invalid syntax (<ipython-input-36-636f35680d19>, line 21)",
     "output_type": "error",
     "traceback": [
      "\u001b[0;36m  File \u001b[0;32m\"<ipython-input-36-636f35680d19>\"\u001b[0;36m, line \u001b[0;32m21\u001b[0m\n\u001b[0;31m    s = 10:\u001b[0m\n\u001b[0m          ^\u001b[0m\n\u001b[0;31mSyntaxError\u001b[0m\u001b[0;31m:\u001b[0m invalid syntax\n"
     ]
    }
   ],
   "source": [
    "name = \"Srushti\"\n",
    "name_2 = \"XA\"\n",
    "\n",
    "roll = 1\n",
    "\n",
    "if roll == 1:\n",
    "    if roll < 3:\n",
    "        print(name)\n",
    "elif roll == 2:\n",
    "    print(\"Sagar\")\n",
    "else:\n",
    "    print(name_2)\n",
    "    \n",
    "# import os\n",
    "\n",
    "# os.getpid()\n",
    "\n",
    "sg = {1: name, 2: \"Sagar\"}\n",
    "\n",
    "print(sg.get(roll, name_2))\n",
    "\n",
    "s = 10:\n",
    "    f = 5"
   ]
  },
  {
   "cell_type": "code",
   "execution_count": 51,
   "metadata": {},
   "outputs": [
    {
     "name": "stdout",
     "output_type": "stream",
     "text": [
      "2 x 1 = 2\n",
      "2 x 2 = 4\n",
      "2 x 3 = 6\n",
      "2 x 4 = 8\n",
      "2 x 5 = 10\n",
      "2 x 6 = 12\n",
      "2 x 7 = 14\n",
      "2 x 8 = 16\n",
      "2 x 9 = 18\n",
      "2 x 10 = 20\n"
     ]
    }
   ],
   "source": [
    "# Nesting works with loops, functions nesting, classes nesting\n",
    "\n",
    "# 2 * 1\n",
    "# 2 * 2\n",
    "\n",
    "mini = 1\n",
    "\n",
    "for sagar in range(1, 11):\n",
    "#     mini += sagar # sagar = sagar * mini\n",
    "#     print(sagar)\n",
    "    mini = 2 * sagar\n",
    "    print(\"2 x {} =\".format(sagar), mini)"
   ]
  },
  {
   "cell_type": "code",
   "execution_count": null,
   "metadata": {},
   "outputs": [],
   "source": [
    "# dict. - BEST\n",
    "# elif - Better\n",
    "# multiple if - POOR\n",
    "\n",
    "# for some_var_that_has_not_being_used in CONTAINER:\n",
    "#     work on some_var_that_has_not_being_used\n",
    "\n",
    "getpid = get process id"
   ]
  }
 ],
 "metadata": {
  "kernelspec": {
   "display_name": "Python 3.8.2 64-bit ('big_bang': venv)",
   "language": "python",
   "name": "python38264bitbigbangvenv77a135e693214ce39e73e8efca9d73f8"
  },
  "language_info": {
   "codemirror_mode": {
    "name": "ipython",
    "version": 3
   },
   "file_extension": ".py",
   "mimetype": "text/x-python",
   "name": "python",
   "nbconvert_exporter": "python",
   "pygments_lexer": "ipython3",
   "version": "3.8.2"
  }
 },
 "nbformat": 4,
 "nbformat_minor": 4
}
