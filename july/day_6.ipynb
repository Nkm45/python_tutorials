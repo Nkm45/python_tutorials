{
 "cells": [
  {
   "cell_type": "markdown",
   "metadata": {},
   "source": [
    "# Day ...\n",
    "\n",
    "**Note:** To understand loops properly, it is presumed that you understand **Containers**.\n",
    "\n",
    "## Loops in Python\n",
    "\n",
    "To loop means to iterate or repeat.\n",
    "\n",
    "Most of the programming languages have the concept of **loops**. They help the developer to reduce the efforts for doing repetitive work. So essentially, loops are a \"**control flow**\" structure which deals with **iterations**.\n",
    "Repetitive execution of the same block of code is called as **iterations**.\n",
    "\n",
    "There are 2 main types of loops (according to me): **Iterative** loops and **Conditional** loops.\n",
    "\n",
    "### Iterative Loops\n",
    "\n",
    "Iterative loops are the structures (syntax) that repeats till it gets exhausted.\n",
    "\n",
    "In python, we have 2 major iterative loops: **For** loop and **While** loop.\n",
    "\n",
    "#### For Loop\n",
    "\n",
    "For loops are the most basic and common type of loops in programming. They essentially mean to loop **for** a fixed interval or period.\n",
    "\n",
    "##### Other type of Containers\n",
    "\n",
    "**range()** and **enumerate()**\n",
    "\n",
    "### Range in Python\n",
    "\n",
    "range() returns a range object. It essentially returns a sequence of integers with starting point, stopping point and the steps. Range works on **Sequences** and **Sets** and supports referencing elements using indexing.\n",
    "\n",
    "```python\n",
    "range(10) # creates a range obj of 10 integers starting from 0 to 9\n",
    "\n",
    "range(1, 11) # creates a range obj of 10 integers starting from 1 to 10\n",
    "\n",
    "range(0, 10, 2) # creates a range obj of 5 integers (even numbers)\n",
    "```\n",
    "\n",
    "#### Things to consider when working with range()\n",
    "\n",
    "- range() returns **range** which is neither list, tuple or any other sequencing container.\n",
    "- All the arguments must be **integers**.\n",
    "- It supports 3 arguments at most and all 3 arguments could be signed or unsigned."
   ]
  },
  {
   "cell_type": "code",
   "execution_count": 39,
   "metadata": {},
   "outputs": [
    {
     "data": {
      "text/plain": [
       "False"
      ]
     },
     "execution_count": 39,
     "metadata": {},
     "output_type": "execute_result"
    }
   ],
   "source": [
    "# Exercise\n",
    "\n",
    "a = \"Mini\"\n",
    "\n",
    "#    0123\n",
    "\n",
    "a = [1, 2, 3]\n",
    "\n",
    "# a[4] =\"420\"\n",
    "\n",
    "# a\n",
    "a = {\"name\": \"XA\", \"language\": \"Python\", \"profile\": \"developer\", (2):1}\n",
    "\n",
    "# a[[12]]\n",
    "\n",
    "# a = {1, 2, 3, 3}\n",
    "\n",
    "# a = (\"This\", 1, \"is\", \"an integer\")\n",
    "\n",
    "# Types of containers: String, List, Tuple, Dictionary and Sets.\n",
    "\n",
    "# for iterator in container:\n",
    "#     do something with the iterator.\n",
    "\n",
    "# for i in a:\n",
    "#     print(i)\n",
    "  \n",
    "# for i in \"Mini\":\n",
    "#           0123\n",
    "#     i = a[3] = \"1\"\n",
    "#     print(i)\n",
    "\n",
    "# for idx, val in a.items():\n",
    "# #     idx = a[\"profile\"] = \"developer\"\n",
    "#     print(val)\n",
    "\n",
    "s = {1, 5, 8, 3, \"3\", \"A\", \"m\", 100, 0.275, 0.00012, 11111111, \"Karnik\", \"KEat\", 667, 68}\n",
    "\n",
    "# for i in {1, 2, 3}:\n",
    "# #         0  1  2  3\n",
    "# #     i = a[0]= \"3\"\n",
    "#     print(i)\n",
    "\n",
    "# a = int(\"30000\")\n",
    "\n",
    "# a = float(a)\n",
    "\n",
    "# a = int(\"inf\")\n",
    "\n",
    "# import numpy as np\n",
    "\n",
    "# print(np.inf)\n",
    "first_operand, second_operand = 69, 69\n",
    "output = first_operand > second_operand # output = True\n",
    "output\n",
    "\n"
   ]
  },
  {
   "cell_type": "code",
   "execution_count": 1,
   "metadata": {},
   "outputs": [
    {
     "name": "stdout",
     "output_type": "stream",
     "text": [
      "2\n",
      "4\n",
      "6\n",
      "8\n",
      "10\n",
      "12\n"
     ]
    }
   ],
   "source": [
    "# Table of 2\n",
    "\n",
    "a = 2 * 1\n",
    "print(a)\n",
    "a = 2 * 2\n",
    "print(a)\n",
    "a = 2 * 3\n",
    "print(a)\n",
    "a = 2 * 4\n",
    "print(a)\n",
    "a = 2 * 5\n",
    "print(a)\n",
    "a = 2 * 6\n",
    "print(a)"
   ]
  },
  {
   "cell_type": "code",
   "execution_count": 35,
   "metadata": {},
   "outputs": [
    {
     "ename": "SyntaxError",
     "evalue": "invalid syntax (<ipython-input-35-2cd8009ef1a8>, line 42)",
     "output_type": "error",
     "traceback": [
      "\u001b[0;36m  File \u001b[0;32m\"<ipython-input-35-2cd8009ef1a8>\"\u001b[0;36m, line \u001b[0;32m42\u001b[0m\n\u001b[0;31m    9sdjxkvlfm = 'djkfdlfnkld'\u001b[0m\n\u001b[0m     ^\u001b[0m\n\u001b[0;31mSyntaxError\u001b[0m\u001b[0;31m:\u001b[0m invalid syntax\n"
     ]
    }
   ],
   "source": [
    "# for any_new_variable in container:\n",
    "#     do something with the any_new_variable.\n",
    "\n",
    "# Types of containers: String, List, Tuple, Dictionary and Sets.\n",
    "\n",
    "a = \"CR07\"\n",
    "\n",
    "#    0123\n",
    "\n",
    "# fskgklfdmglfd\n",
    "# fjklmlskgmf\n",
    "# sdfoldkso;f\n",
    "\n",
    "a[1]\n",
    "\n",
    "\n",
    "b = [\"Mini\", \"Shailesh\", \"Pranali\", 23]\n",
    "#    0       1           2          3\n",
    "\n",
    "c = {\"name\": \"XA\", \"language\": \"Python\", \"profile\": (\"CEO\", \"Founder\")}\n",
    "\n",
    "# a[4]\n",
    "\n",
    "'''\n",
    "\n",
    "sdfsf\n",
    "fdsfdsf\n",
    "\n",
    "'''\n",
    "\"\"\"\n",
    "\n",
    "ds;fkdslfjdslkfjsdl;kfjmlskd\n",
    "This is a\n",
    "paragraph\n",
    "\n",
    "\"\"\"\n",
    "\n",
    "23\n",
    "\n",
    "# s = 23\n",
    "\n",
    "9sdjxkvlfm = 'djkfdlfnkld'\n",
    "\n",
    "# for idx in c.keys():\n",
    "# # for idx in {\"name\": \"XA\", \"language\": \"Python\", \"profile\": (\"CEO\", \"Founder\")}:\n",
    "# #     idx = c[\"name\"] = \"XA\"\n",
    "# # for idx in [\"name\", \"language\", \"profile\"]:\n",
    "# #     idx = c[2] = \"profile\"\n",
    "#     print(idx)\n",
    "    \n",
    "# print(\"THE END\")\n",
    "\n",
    "# c[0]"
   ]
  },
  {
   "cell_type": "code",
   "execution_count": 33,
   "metadata": {},
   "outputs": [
    {
     "ename": "NameError",
     "evalue": "name 'prin' is not defined",
     "output_type": "error",
     "traceback": [
      "\u001b[0;31m---------------------------------------------------------------------------\u001b[0m",
      "\u001b[0;31mNameError\u001b[0m                                 Traceback (most recent call last)",
      "\u001b[0;32m<ipython-input-33-a69e3596e357>\u001b[0m in \u001b[0;36m<module>\u001b[0;34m\u001b[0m\n\u001b[0;32m----> 1\u001b[0;31m \u001b[0mprin\u001b[0m\u001b[0;34m\u001b[0m\u001b[0;34m\u001b[0m\u001b[0m\n\u001b[0m",
      "\u001b[0;31mNameError\u001b[0m: name 'prin' is not defined"
     ]
    }
   ],
   "source": [
    "prin"
   ]
  },
  {
   "cell_type": "code",
   "execution_count": null,
   "metadata": {},
   "outputs": [],
   "source": []
  }
 ],
 "metadata": {
  "kernelspec": {
   "display_name": "Python 3.8.2 64-bit ('big_bang': venv)",
   "language": "python",
   "name": "python38264bitbigbangvenv77a135e693214ce39e73e8efca9d73f8"
  },
  "language_info": {
   "codemirror_mode": {
    "name": "ipython",
    "version": 3
   },
   "file_extension": ".py",
   "mimetype": "text/x-python",
   "name": "python",
   "nbconvert_exporter": "python",
   "pygments_lexer": "ipython3",
   "version": "3.8.2"
  }
 },
 "nbformat": 4,
 "nbformat_minor": 4
}
