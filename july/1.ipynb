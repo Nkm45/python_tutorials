{
 "cells": [
  {
   "cell_type": "markdown",
   "metadata": {},
   "source": [
    "# Day 1\n",
    "\n",
    "## What is Python?\n",
    "\n",
    "_Python is a high-level, interpreting and scripting language._\n",
    "\n",
    "Let's break the above statement into smaller understandable bits - \n",
    "\n",
    "- High-level\n",
    "    - High-level means human understandable language.\n",
    "    - They use common English words to describe their functions (example: join, import, property, etc...)\n",
    "    - Python, C, C++, Java, etc are examples of High-level language.\n",
    "\n",
    "\n",
    "- Interpreting\n",
    "    - Interpreting languages are the one which executes line by line.\n",
    "\n",
    "\n",
    "- Scripting\n",
    "    - Python programs are considered to be scripts.\n",
    "\n",
    "\n",
    "## Why to use Python?\n",
    "\n",
    "- Why not? - It's free and kinda open-source.\n",
    "- It's easy to learn. In UK, Python is taught as the primary programming language for University students.\n",
    "- It covers most of CS fundamentals (OOPS, Design Patterns, etc...)\n",
    "- It's one of the mainstream languages of 2020.\n",
    "- Many applications(programs) can be built using Python (Not entirely true).\n",
    "- Many more...\n",
    "\n",
    "\n",
    "## How to get started with Python?\n",
    "\n",
    "- Best way\n",
    "    - Using [YouTube](https://www.youtube.com/watch?v=wp15jyylSEQ).\n",
    "\n",
    "\n",
    "- Naive way\n",
    "    - Most naive to get started with Python is to visit [Python's website](https://www.python.org/downloads/).\n",
    "    - This will provide you with vanilla Python Shell and an IDE (place to write code).\n",
    "\n",
    "\n",
    "- Using a distribution\n",
    "    - If you want to have no fuss during the installation visit [Anaconda's website](https://www.anaconda.com/products/individual).\n",
    "\n",
    "\n",
    "- Using Jupyter Notebook (Best way for beginners)\n",
    "    - Using [YouTube](https://www.youtube.com/watch?v=o6aOqkmrrb4).\n",
    "    \n",
    "    \n",
    "- Using Google Colab (Best & quickest way to get familiar with Cloud)\n",
    "    - Using [Colab Notebook](https://colab.research.google.com/notebooks/intro.ipynb)."
   ]
  },
  {
   "cell_type": "code",
   "execution_count": null,
   "metadata": {},
   "outputs": [],
   "source": []
  },
  {
   "cell_type": "code",
   "execution_count": null,
   "metadata": {},
   "outputs": [],
   "source": []
  }
 ],
 "metadata": {
  "kernelspec": {
   "display_name": "Python 3",
   "language": "python",
   "name": "python3"
  },
  "language_info": {
   "codemirror_mode": {
    "name": "ipython",
    "version": 3
   },
   "file_extension": ".py",
   "mimetype": "text/x-python",
   "name": "python",
   "nbconvert_exporter": "python",
   "pygments_lexer": "ipython3",
   "version": "3.8.2"
  }
 },
 "nbformat": 4,
 "nbformat_minor": 4
}
