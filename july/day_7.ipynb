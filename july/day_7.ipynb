{
 "cells": [
  {
   "cell_type": "markdown",
   "metadata": {},
   "source": [
    "# Day ... + 1\n",
    "\n",
    "## Python Packages and Modules\n",
    "\n",
    "A **module** in python is basically a **python script**. A **package** is a collection of modules which have a common purpose and has references to a package or a module.\n",
    "\n",
    "### Modules in Python\n",
    "\n",
    "#### What are Modules and Why do we need them?\n",
    "\n",
    "As mentioned up top, a python module is a python script with some important python things in it. Anything that resembles like a python file will be considered as a Python Module. Usually the python scripts are saved wit h **.py** extension. But that is not the case! There are many different python extensions with specific use case. More info [**here**](https://stackoverflow.com/a/18032741).\n",
    "\n",
    "We need modules for **modularity**. Modularity means **scalability with simplicity** (according to me). \n",
    "\n",
    "**Note:** A **module** should be concise, simple*, maintainable and recyclable.\n",
    "\n",
    "#### Types of Modules\n",
    "\n",
    "**Note:** There are no **actual types** of modules. This is just for understanding!\n",
    "\n",
    "We can classify them as **built-in** modules, **user-defined** modules and **extension-based** modules.\n",
    "\n",
    "**Built-ins**\n",
    "\n",
    "Built-in modules are the ones which comes with vanilla python. **os**, **sys**, **abc**, etc are the examples of built-in modules. These are written and maintained by members of **PSF**, Python Software Foundation.\n",
    "\n",
    "**User-defined**\n",
    "\n",
    "User-defined are what they sound like, they're written by the user. Any python script that that have been written by the user would be considered as this one. These are also\n",
    "\n",
    "#### Using a Module in Python\n",
    "\n",
    "We write modules to use them. We use them by importing them in python."
   ]
  },
  {
   "cell_type": "code",
   "execution_count": null,
   "metadata": {},
   "outputs": [],
   "source": []
  }
 ],
 "metadata": {
  "kernelspec": {
   "display_name": "Python 3.8.2 64-bit ('big_bang': venv)",
   "language": "python",
   "name": "python38264bitbigbangvenv77a135e693214ce39e73e8efca9d73f8"
  },
  "language_info": {
   "codemirror_mode": {
    "name": "ipython",
    "version": 3
   },
   "file_extension": ".py",
   "mimetype": "text/x-python",
   "name": "python",
   "nbconvert_exporter": "python",
   "pygments_lexer": "ipython3",
   "version": "3.8.2"
  }
 },
 "nbformat": 4,
 "nbformat_minor": 4
}
